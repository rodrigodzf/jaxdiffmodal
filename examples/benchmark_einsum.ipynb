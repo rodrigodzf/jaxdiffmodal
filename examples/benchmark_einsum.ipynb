{
 "cells": [
  {
   "cell_type": "code",
   "execution_count": 11,
   "metadata": {},
   "outputs": [],
   "source": [
    "import timeit\n",
    "from functools import partial\n",
    "\n",
    "import jax\n",
    "import jax.numpy as jnp"
   ]
  },
  {
   "cell_type": "code",
   "execution_count": 12,
   "metadata": {},
   "outputs": [],
   "source": [
    "@partial(jax.jit, static_argnums=(2,))\n",
    "def contract(\n",
    "    Hv: jnp.array,\n",
    "    q: jnp.array,\n",
    "    optimize=\"auto\",\n",
    "):\n",
    "    nl = jnp.einsum(\n",
    "        \"m i j, k l j, i, k, l -> m\",\n",
    "        Hv,\n",
    "        Hv,\n",
    "        q,\n",
    "        q,\n",
    "        q,\n",
    "        optimize=optimize,\n",
    "    )\n",
    "    return nl"
   ]
  },
  {
   "cell_type": "code",
   "execution_count": 14,
   "metadata": {},
   "outputs": [],
   "source": [
    "n_modes = 100\n",
    "Hv = jax.random.normal(jax.random.PRNGKey(0), (n_modes, n_modes, n_modes))\n",
    "q = jax.random.normal(jax.random.PRNGKey(1), (n_modes,))\n",
    "_ = contract(Hv, q, optimize=\"auto\")\n",
    "_ = contract(Hv, q, optimize=\"greedy\")\n",
    "_ = contract(Hv, q, optimize=\"optimal\")\n",
    "_ = contract(Hv, q, optimize=\"eager\")"
   ]
  },
  {
   "cell_type": "code",
   "execution_count": 30,
   "metadata": {},
   "outputs": [
    {
     "name": "stdout",
     "output_type": "stream",
     "text": [
      "The slowest run took 12.98 times longer than the fastest. This could mean that an intermediate result is being cached.\n",
      "57.6 μs ± 65.1 μs per loop (mean ± std. dev. of 1000 runs, 10 loops each)\n",
      "The slowest run took 17.44 times longer than the fastest. This could mean that an intermediate result is being cached.\n",
      "63.9 μs ± 81 μs per loop (mean ± std. dev. of 1000 runs, 10 loops each)\n",
      "The slowest run took 16.96 times longer than the fastest. This could mean that an intermediate result is being cached.\n",
      "58.1 μs ± 82.7 μs per loop (mean ± std. dev. of 1000 runs, 10 loops each)\n",
      "The slowest run took 11.77 times longer than the fastest. This could mean that an intermediate result is being cached.\n",
      "60.2 μs ± 76.4 μs per loop (mean ± std. dev. of 1000 runs, 10 loops each)\n"
     ]
    }
   ],
   "source": [
    "%timeit -n 10 -r 1000 contract(Hv, q, optimize=\"auto\")\n",
    "%timeit -n 10 -r 1000 contract(Hv, q, optimize=\"greedy\")\n",
    "%timeit -n 10 -r 1000 contract(Hv, q, optimize=\"optimal\")\n",
    "%timeit -n 10 -r 1000 contract(Hv, q, optimize=\"eager\")"
   ]
  }
 ],
 "metadata": {
  "kernelspec": {
   "display_name": ".venv",
   "language": "python",
   "name": "python3"
  },
  "language_info": {
   "codemirror_mode": {
    "name": "ipython",
    "version": 3
   },
   "file_extension": ".py",
   "mimetype": "text/x-python",
   "name": "python",
   "nbconvert_exporter": "python",
   "pygments_lexer": "ipython3",
   "version": "3.11.10"
  }
 },
 "nbformat": 4,
 "nbformat_minor": 2
}
