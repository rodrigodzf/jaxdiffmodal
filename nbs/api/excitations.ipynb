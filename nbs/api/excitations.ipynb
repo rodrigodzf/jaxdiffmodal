{
 "cells": [
  {
   "cell_type": "markdown",
   "metadata": {},
   "source": [
    "# Excitation functions"
   ]
  },
  {
   "cell_type": "code",
   "execution_count": null,
   "metadata": {},
   "outputs": [],
   "source": [
    "# | default_exp excitations"
   ]
  },
  {
   "cell_type": "code",
   "execution_count": null,
   "metadata": {},
   "outputs": [],
   "source": [
    "# | exporti\n",
    "import numpy as np"
   ]
  },
  {
   "cell_type": "code",
   "execution_count": null,
   "metadata": {},
   "outputs": [],
   "source": [
    "# | hide\n",
    "import matplotlib.pyplot as plt"
   ]
  },
  {
   "cell_type": "code",
   "execution_count": null,
   "metadata": {},
   "outputs": [],
   "source": [
    "# | export\n",
    "\n",
    "\n",
    "def create_1d_raised_cosine(\n",
    "    duration: float,\n",
    "    start_time: float,\n",
    "    end_time: float,\n",
    "    amplitude: float,\n",
    "    sample_rate: float,\n",
    "):\n",
    "    \"\"\"\n",
    "    Create a 1D raised cosine excitation with time parameters in seconds.\n",
    "\n",
    "    Parameters\n",
    "    ----------\n",
    "    duration : float\n",
    "        Total duration of the excitation (in seconds).\n",
    "    start_time : float\n",
    "        Start time of the excitation (in seconds).\n",
    "    end_time : float\n",
    "        End time of the excitation (in seconds).\n",
    "    amplitude : float\n",
    "        Amplitude of the excitation.\n",
    "    sample_rate : float\n",
    "        Sample rate (samples per second).\n",
    "\n",
    "    Returns\n",
    "    -------\n",
    "    excitation : ndarray\n",
    "        The excitation signal.\n",
    "    \"\"\"\n",
    "    num_samples = int(duration * sample_rate)\n",
    "    excitation = np.zeros(num_samples)\n",
    "\n",
    "    start_index = int(start_time * sample_rate)\n",
    "    end_index = int(end_time * sample_rate)\n",
    "\n",
    "    if start_index < 0 or end_index > num_samples or start_index >= end_index:\n",
    "        raise ValueError(\"Invalid start_time or end_time range.\")\n",
    "\n",
    "    excitation[start_index:end_index] = (\n",
    "        amplitude\n",
    "        * (1 - np.cos(2 * np.pi * np.linspace(0, 1, end_index - start_index)))\n",
    "        / 2\n",
    "    )\n",
    "\n",
    "    return excitation"
   ]
  },
  {
   "cell_type": "code",
   "execution_count": null,
   "metadata": {},
   "outputs": [
    {
     "data": {
      "text/plain": [
       "[<matplotlib.lines.Line2D>]"
      ]
     },
     "execution_count": null,
     "metadata": {},
     "output_type": "execute_result"
    },
    {
     "data": {
      "image/png": "[encoded data removed]",
      "text/plain": [
       "<Figure size 640x480 with 1 Axes>"
      ]
     },
     "metadata": {},
     "output_type": "display_data"
    }
   ],
   "source": [
    "rc = create_1d_raised_cosine(\n",
    "    1,\n",
    "    0.01,\n",
    "    0.05,\n",
    "    1,\n",
    "    44100,\n",
    ")\n",
    "\n",
    "plt.plot(rc)"
   ]
  },
  {
   "cell_type": "code",
   "execution_count": null,
   "metadata": {},
   "outputs": [],
   "source": [
    "# | export\n",
    "\n",
    "\n",
    "def create_raised_cosine(Nx, Ny, h, ctr, epsilon, wid):\n",
    "    \"\"\"\n",
    "    Create a raised cosine function on a 2D grid.\n",
    "\n",
    "    Parameters:\n",
    "        Nx (int): Number of grid points in the x-direction.\n",
    "        Ny (int): Number of grid points in the y-direction.\n",
    "        h (float): Grid spacing.\n",
    "        ctr (tuple): Center of the raised cosine (x, y).\n",
    "        epsilon (float): Scaling parameter.\n",
    "        wid (float): Width of the cosine.\n",
    "\n",
    "    Returns:\n",
    "        np.ndarray: Flattened raised cosine array.\n",
    "    \"\"\"\n",
    "    # Create the grid\n",
    "    X, Y = np.meshgrid(np.arange(0, Nx + 1) * h, np.arange(0, Ny + 1) * h)\n",
    "\n",
    "    # Compute the distance\n",
    "    dist_x = (X - ctr[0]) ** 2\n",
    "    dist_y = (Y - ctr[1]) ** 2\n",
    "    dist = np.sqrt(dist_x + dist_y)\n",
    "\n",
    "    # Compute the indicator function\n",
    "    ind = np.sign(np.maximum(-dist + wid / 2, 0))\n",
    "\n",
    "    # Compute the raised cosine\n",
    "    rc = 0.5 * ind.T * (1 + np.cos(2 * np.pi * dist.T / wid))\n",
    "\n",
    "    # Flatten the array\n",
    "    # rc = rc.ravel()\n",
    "    return rc, X, Y, dist, dist_x, dist_y"
   ]
  },
  {
   "cell_type": "code",
   "execution_count": null,
   "metadata": {},
   "outputs": [],
   "source": [
    "from matplotlib import pyplot as plt"
   ]
  },
  {
   "cell_type": "code",
   "execution_count": null,
   "metadata": {},
   "outputs": [
    {
     "data": {
      "text/plain": [
       "<matplotlib.image.AxesImage>"
      ]
     },
     "execution_count": null,
     "metadata": {},
     "output_type": "execute_result"
    },
    {
     "data": {
      "image/png": "[encoded data removed]",
      "text/plain": [
       "<Figure size 640x480 with 1 Axes>"
      ]
     },
     "metadata": {},
     "output_type": "display_data"
    }
   ],
   "source": [
    "# Example usage\n",
    "Nx, Ny = 25, 21  # Grid dimensions\n",
    "h = 0.0438  # Grid spacing\n",
    "ctr = (0.5, 0.5)  # Center of the raised cosine\n",
    "epsilon = 1.2000  # Scaling parameter\n",
    "wid = 0.3  # Width of the cosine\n",
    "\n",
    "rc, X, Y, dist, distx, disty = create_raised_cosine(\n",
    "    Nx,\n",
    "    Ny,\n",
    "    h,\n",
    "    ctr,\n",
    "    epsilon,\n",
    "    wid,\n",
    ")\n",
    "\n",
    "plt.imshow(rc, cmap=\"gray\", origin=\"lower\")"
   ]
  },
  {
   "cell_type": "code",
   "execution_count": null,
   "metadata": {},
   "outputs": [],
   "source": [
    "# | export\n",
    "\n",
    "\n",
    "def create_pluck_modal(\n",
    "    lambdas: np.ndarray,  # eigenvalues of the Laplacian operator\n",
    "    pluck_position: float = 0.28,  # position of pluck on the string in meters\n",
    "    initial_deflection: float = 0.03,  # initial deflection of the string in meters\n",
    "    string_length: float = 1.0,  # total length of the string in meters\n",
    ") -> np.ndarray:\n",
    "    \"\"\"\n",
    "    Create a pluck excitation for a string with a given length and pluck position.\n",
    "    The pluck is modeled in the modal domain.\n",
    "\n",
    "    Parameters\n",
    "    ----------\n",
    "    wavenumbers : np.ndarray\n",
    "        The wavenumbers of the modes.\n",
    "    xe : float\n",
    "        The position of the pluck in meters.\n",
    "    hi : float\n",
    "        The initial deflection of the string in meters.\n",
    "    length : float\n",
    "        The length of the string in meters.\n",
    "\n",
    "    Returns\n",
    "    -------\n",
    "    np.ndarray\n",
    "        The pluck excitation in the modal domain.\n",
    "    \"\"\"\n",
    "\n",
    "    lambdas_sqrt = np.sqrt(lambdas)\n",
    "\n",
    "    # Scaling factor for the initial deflection\n",
    "    deflection_scaling = initial_deflection * (\n",
    "        string_length / (string_length - pluck_position)\n",
    "    )\n",
    "\n",
    "    # Compute the coefficients\n",
    "    coefficients = (\n",
    "        deflection_scaling\n",
    "        * np.sin(lambdas_sqrt * pluck_position)\n",
    "        / (lambdas_sqrt * pluck_position)\n",
    "    )\n",
    "    coefficients /= lambdas_sqrt\n",
    "\n",
    "    return coefficients"
   ]
  }
 ],
 "metadata": {
  "kernelspec": {
   "display_name": "python3",
   "language": "python",
   "name": "python3"
  }
 },
 "nbformat": 4,
 "nbformat_minor": 2
}
