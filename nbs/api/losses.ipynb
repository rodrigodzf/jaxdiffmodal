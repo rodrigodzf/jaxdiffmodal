{
 "cells": [
  {
   "cell_type": "markdown",
   "metadata": {},
   "source": [
    "# Losses"
   ]
  },
  {
   "cell_type": "markdown",
   "metadata": {},
   "source": [
    "A collection of losses including:\n",
    "\n",
    "- Spectral log magnitude loss\n",
    "- Spectral convergence loss\n",
    "- Wasserstein loss\n"
   ]
  },
  {
   "cell_type": "code",
   "execution_count": null,
   "metadata": {},
   "outputs": [],
   "source": [
    "# | default_exp losses"
   ]
  },
  {
   "cell_type": "code",
   "execution_count": null,
   "metadata": {},
   "outputs": [],
   "source": [
    "# | exporti\n",
    "\n",
    "import jax.numpy as jnp\n",
    "import jax"
   ]
  },
  {
   "cell_type": "code",
   "execution_count": null,
   "metadata": {},
   "outputs": [],
   "source": [
    "# | hide\n",
    "\n",
    "import matplotlib.pyplot as plt"
   ]
  },
  {
   "cell_type": "code",
   "execution_count": null,
   "metadata": {},
   "outputs": [],
   "source": [
    "# | export\n",
    "\n",
    "\n",
    "def quantile_function(qs, cws, xs):\n",
    "    r\"\"\"Computes the quantile function of an empirical distribution\n",
    "\n",
    "    Parameters\n",
    "    ----------\n",
    "    qs: array-like, shape (n,)\n",
    "        Quantiles at which the quantile function is evaluated\n",
    "    cws: array-like, shape (m, ...)\n",
    "        cumulative weights of the 1D empirical distribution, if batched, must be similar to xs\n",
    "    xs: array-like, shape (n, ...)\n",
    "        locations of the 1D empirical distribution, batched against the `xs.ndim - 1` first dimensions\n",
    "\n",
    "    Returns\n",
    "    -------\n",
    "    q: array-like, shape (..., n)\n",
    "        The quantiles of the distribution\n",
    "    \"\"\"\n",
    "    n = xs.shape[0]\n",
    "    cws = cws.T\n",
    "    qs = qs.T\n",
    "    idx = jnp.searchsorted(cws, qs).T\n",
    "    return jnp.take_along_axis(xs, jnp.clip(idx, 0, n - 1), axis=0)\n",
    "\n",
    "\n",
    "def wasserstein_1d(\n",
    "    u_values,\n",
    "    v_values,\n",
    "    u_weights=None,\n",
    "    v_weights=None,\n",
    "    p=1,\n",
    "    require_sort=True,\n",
    "):\n",
    "    r\"\"\"\n",
    "\n",
    "    This is a port of the wasserstein_1d function from [POT](https://pythonot.github.io/_modules/ot/lp/solver_1d.html#wasserstein_1d) in JAX.\n",
    "    Computes the 1 dimensional OT loss [15] between two (batched) empirical\n",
    "    distributions\n",
    "\n",
    "    .. math:\n",
    "        OT_{loss} = \\int_0^1 |cdf_u^{-1}(q) - cdf_v^{-1}(q)|^p dq\n",
    "\n",
    "    It is formally the p-Wasserstein distance raised to the power p.\n",
    "    We do so in a vectorized way by first building the individual quantile functions then integrating them.\n",
    "\n",
    "    This function should be preferred to `emd_1d` whenever the backend is\n",
    "    different to numpy, and when gradients over\n",
    "    either sample positions or weights are required.\n",
    "\n",
    "    Parameters\n",
    "    ----------\n",
    "    u_values: array-like, shape (n, ...)\n",
    "        locations of the first empirical distribution\n",
    "    v_values: array-like, shape (m, ...)\n",
    "        locations of the second empirical distribution\n",
    "    u_weights: array-like, shape (n, ...), optional\n",
    "        weights of the first empirical distribution, if None then uniform weights are used\n",
    "    v_weights: array-like, shape (m, ...), optional\n",
    "        weights of the second empirical distribution, if None then uniform weights are used\n",
    "    p: int, optional\n",
    "        order of the ground metric used, should be at least 1 (see [2, Chap. 2], default is 1\n",
    "    require_sort: bool, optional\n",
    "        sort the distributions atoms locations, if False we will consider they have been sorted prior to being passed to\n",
    "        the function, default is True\n",
    "\n",
    "    Returns\n",
    "    -------\n",
    "    cost: float/array-like, shape (...)\n",
    "        the batched EMD\n",
    "\n",
    "    References\n",
    "    ----------\n",
    "    .. [15] Peyré, G., & Cuturi, M. (2018). Computational Optimal Transport.\n",
    "\n",
    "    \"\"\"\n",
    "\n",
    "    assert p >= 1, \"The OT loss is only valid for p>=1, {p} was given\".format(p=p)\n",
    "\n",
    "    n = u_values.shape[0]\n",
    "    m = v_values.shape[0]\n",
    "\n",
    "    if u_weights is None:\n",
    "        u_weights = jnp.full(u_values.shape, 1.0 / n, dtype=u_values.dtype)\n",
    "    elif u_weights.ndim != u_values.ndim:\n",
    "        u_weights = jnp.repeat(u_weights[..., None], u_values.shape[-1], -1)\n",
    "    if v_weights is None:\n",
    "        v_weights = jnp.full(v_values.shape, 1.0 / m, dtype=v_values.dtype)\n",
    "    elif v_weights.ndim != v_values.ndim:\n",
    "        v_weights = jnp.repeat(v_weights[..., None], v_values.shape[-1], -1)\n",
    "\n",
    "    if require_sort:\n",
    "        u_sorter = jnp.argsort(u_values, 0)\n",
    "        u_values = jnp.take_along_axis(u_values, u_sorter, 0)\n",
    "\n",
    "        v_sorter = jnp.argsort(v_values, 0)\n",
    "        v_values = jnp.take_along_axis(v_values, v_sorter, 0)\n",
    "\n",
    "        u_weights = jnp.take_along_axis(u_weights, u_sorter, 0)\n",
    "        v_weights = jnp.take_along_axis(v_weights, v_sorter, 0)\n",
    "\n",
    "    u_cumweights = jnp.cumsum(u_weights, 0)\n",
    "    v_cumweights = jnp.cumsum(v_weights, 0)\n",
    "\n",
    "    qs = jnp.sort(jnp.concatenate((u_cumweights, v_cumweights), 0), 0)\n",
    "    u_quantiles = quantile_function(qs, u_cumweights, u_values)\n",
    "    v_quantiles = quantile_function(qs, v_cumweights, v_values)\n",
    "    qs = jnp.pad(qs, pad_width=[(1, 0)] + (qs.ndim - 1) * [(0, 0)])\n",
    "    delta = qs[1:, ...] - qs[:-1, ...]\n",
    "    diff_quantiles = jnp.abs(u_quantiles - v_quantiles)\n",
    "\n",
    "    if p == 1:\n",
    "        return jnp.sum(delta * diff_quantiles, axis=0)\n",
    "    return jnp.sum(delta * jnp.power(diff_quantiles, p), axis=0)"
   ]
  },
  {
   "cell_type": "code",
   "execution_count": null,
   "metadata": {},
   "outputs": [],
   "source": [
    "# | export\n",
    "\n",
    "\n",
    "def compute_mag(\n",
    "    x: jnp.ndarray,  # (b, t)\n",
    ") -> jnp.ndarray:\n",
    "    # Compute the magnitude rfft\n",
    "    return jnp.abs(jnp.fft.rfft(x, axis=-1, norm=\"forward\"))"
   ]
  },
  {
   "cell_type": "code",
   "execution_count": null,
   "metadata": {},
   "outputs": [],
   "source": [
    "# | export\n",
    "\n",
    "\n",
    "def spectral_wasserstein(\n",
    "    x,\n",
    "    y,\n",
    "    squared=True,\n",
    "    is_mag=False,\n",
    "):\n",
    "    if is_mag:\n",
    "        x_mag = x if not squared else x**2\n",
    "        y_mag = y if not squared else y**2\n",
    "    else:\n",
    "        x_mag = compute_mag(x) if not squared else compute_mag(x) ** 2\n",
    "        y_mag = compute_mag(y) if not squared else compute_mag(y) ** 2\n",
    "\n",
    "    # we need to normalise the mag_ffts so that they represent distributions\n",
    "    x_mag = x_mag / jnp.sum(x_mag)\n",
    "    y_mag = y_mag / jnp.sum(y_mag)\n",
    "\n",
    "    x_pos = jnp.linspace(0, 1, x_mag.shape[-1])\n",
    "\n",
    "    return wasserstein_1d(\n",
    "        x_pos,\n",
    "        x_pos,\n",
    "        x_mag,\n",
    "        y_mag,\n",
    "    )\n",
    "\n",
    "\n",
    "batched_spectral_wasserstein = jax.vmap(spectral_wasserstein)"
   ]
  },
  {
   "cell_type": "code",
   "execution_count": null,
   "metadata": {},
   "outputs": [],
   "source": [
    "# | export\n",
    "\n",
    "\n",
    "def log_mag(\n",
    "    x: jnp.ndarray,\n",
    "    eps: float = 1e-10,\n",
    "):\n",
    "    return jnp.log(jnp.abs(x) + eps)\n",
    "\n",
    "\n",
    "def log_mag_loss(\n",
    "    pred: jnp.ndarray,  # complex valued fft of the signal\n",
    "    target: jnp.ndarray,  # complex valued fft of the signal\n",
    "    eps: float = 1e-10,\n",
    "    distance: str = \"l1\",\n",
    "):\n",
    "    \"\"\"\n",
    "    Spectral log magtinude loss but for a fft of a signal\n",
    "    See [Arik et al., 2018](https://arxiv.org/abs/1808.06719)\n",
    "    \"\"\"\n",
    "\n",
    "    pred_log_mag = log_mag(pred, eps)\n",
    "    target_log_mag = log_mag(target, eps)\n",
    "\n",
    "    # l1 spectral log magnitude loss\n",
    "    if distance == \"l1\":\n",
    "        return jnp.mean(jnp.abs(pred_log_mag - target_log_mag))\n",
    "    # l2 spectral log magnitude loss\n",
    "    elif distance == \"l2\":\n",
    "        return jnp.mean((pred_log_mag - target_log_mag) ** 2)\n",
    "    else:\n",
    "        raise ValueError(\"Invalid distance metric. Choose 'l1' or 'l2'.\")"
   ]
  },
  {
   "cell_type": "code",
   "execution_count": null,
   "metadata": {},
   "outputs": [],
   "source": [
    "phase = 0.0\n",
    "omegas = jax.random.uniform(jax.random.PRNGKey(0), shape=(10,)) * 100\n",
    "mag = 0.99\n",
    "\n",
    "\n",
    "def osc_bank(t, omegas):\n",
    "    return mag * jnp.sin(omegas[..., None] * jnp.pi * 2 * t[None] + phase)"
   ]
  },
  {
   "cell_type": "code",
   "execution_count": null,
   "metadata": {},
   "outputs": [
    {
     "name": "stdout",
     "output_type": "stream",
     "text": [
      "(10, 1000)\n"
     ]
    }
   ],
   "source": [
    "t = jnp.linspace(0, 1, 1000)\n",
    "gt_osc_values = osc_bank(t, omegas)\n",
    "# print(gt_osc_values)\n",
    "print(gt_osc_values.shape)"
   ]
  },
  {
   "cell_type": "code",
   "execution_count": null,
   "metadata": {},
   "outputs": [
    {
     "name": "stdout",
     "output_type": "stream",
     "text": [
      "[0. 0. 0. 0. 0. 0. 0. 0. 0. 0.]\n"
     ]
    }
   ],
   "source": [
    "a = jax.vmap(spectral_wasserstein)(gt_osc_values, gt_osc_values)\n",
    "print(a)"
   ]
  },
  {
   "cell_type": "code",
   "execution_count": null,
   "metadata": {},
   "outputs": [],
   "source": [
    "def loss_fn(omega):\n",
    "    pred_osc_values = osc_bank(t, omega)\n",
    "    x_fft = compute_mag(gt_osc_values)\n",
    "    y_fft = compute_mag(pred_osc_values)\n",
    "    l2_mag_loss = jnp.mean((x_fft - y_fft) ** 2)\n",
    "    return l2_mag_loss\n",
    "\n",
    "\n",
    "def ot_loss_fn(omega):\n",
    "    pred_osc_values = osc_bank(t, omega)\n",
    "\n",
    "    ot_loss = jnp.mean(\n",
    "        jax.vmap(spectral_wasserstein)(gt_osc_values, pred_osc_values),\n",
    "    )\n",
    "    return ot_loss"
   ]
  },
  {
   "cell_type": "code",
   "execution_count": null,
   "metadata": {},
   "outputs": [
    {
     "data": {
      "text/plain": [
       "[<matplotlib.lines.Line2D>,\n",
       " <matplotlib.lines.Line2D>,\n",
       " <matplotlib.lines.Line2D>,\n",
       " <matplotlib.lines.Line2D>,\n",
       " <matplotlib.lines.Line2D>]"
      ]
     },
     "execution_count": null,
     "metadata": {},
     "output_type": "execute_result"
    },
    {
     "data": {
      "image/png": "[encoded data removed]",
      "text/plain": [
       "<Figure size 640x480 with 1 Axes>"
      ]
     },
     "metadata": {},
     "output_type": "display_data"
    }
   ],
   "source": [
    "x_fft = compute_mag(gt_osc_values) ** 2\n",
    "plt.plot(x_fft[:5].T)"
   ]
  },
  {
   "cell_type": "code",
   "execution_count": null,
   "metadata": {},
   "outputs": [
    {
     "name": "stdout",
     "output_type": "stream",
     "text": [
      "(100,) float32\n",
      "(100,) float32\n"
     ]
    },
    {
     "data": {
      "text/plain": [
       "[<matplotlib.lines.Line2D>]"
      ]
     },
     "execution_count": null,
     "metadata": {},
     "output_type": "execute_result"
    },
    {
     "data": {
      "image/png": "[encoded data removed]",
      "text/plain": [
       "<Figure size 640x480 with 1 Axes>"
      ]
     },
     "metadata": {},
     "output_type": "display_data"
    }
   ],
   "source": [
    "ranges = jnp.linspace(-50, 50, 100)\n",
    "omegas_scan = omegas + ranges[:, None]\n",
    "\n",
    "# print(omegas_scan.shape)\n",
    "loss, grad = jax.vmap(jax.value_and_grad(loss_fn))(omegas_scan)\n",
    "loss_ot, grad_ot = jax.vmap(jax.value_and_grad(ot_loss_fn))(omegas_scan)\n",
    "\n",
    "print(loss.shape, loss.dtype)\n",
    "print(loss_ot.shape, loss_ot.dtype)\n",
    "plt.plot(ranges, loss_ot)"
   ]
  },
  {
   "cell_type": "code",
   "execution_count": null,
   "metadata": {},
   "outputs": [
    {
     "data": {
      "text/plain": [
       "[<matplotlib.lines.Line2D>]"
      ]
     },
     "execution_count": null,
     "metadata": {},
     "output_type": "execute_result"
    },
    {
     "data": {
      "image/png": "[encoded data removed]",
      "text/plain": [
       "<Figure size 640x480 with 1 Axes>"
      ]
     },
     "metadata": {},
     "output_type": "display_data"
    }
   ],
   "source": [
    "omegas_gt = jax.random.uniform(jax.random.PRNGKey(0), shape=(10,)) * 1000\n",
    "omegas_pred = omegas_gt * 1\n",
    "\n",
    "pred_osc_values = osc_bank(t, omegas_pred).mean(axis=0)\n",
    "gt_osc_values = osc_bank(t, omegas_gt)\n",
    "\n",
    "x_mag = compute_mag(gt_osc_values.mean(axis=0))\n",
    "y_mag = compute_mag(pred_osc_values)\n",
    "\n",
    "plt.semilogx(x_mag)\n",
    "plt.semilogx(y_mag)"
   ]
  },
  {
   "cell_type": "code",
   "execution_count": null,
   "metadata": {},
   "outputs": [],
   "source": [
    "# | export\n",
    "def spectral_convergence_loss(\n",
    "    pred: jnp.ndarray,  # magnitude of the fft of the predicted signal\n",
    "    target: jnp.ndarray,  # magnitude of the fft of the target signal\n",
    "):\n",
    "    \"\"\"\n",
    "    Spectral convergence loss but for a fft of a signal\n",
    "    See [Arik et al., 2018](https://arxiv.org/abs/1808.06719)\n",
    "    \"\"\"\n",
    "    # l2 spectral convergence loss\n",
    "    return jnp.linalg.norm(target - pred) / jnp.linalg.norm(target)"
   ]
  }
 ],
 "metadata": {
  "kernelspec": {
   "display_name": "python3",
   "language": "python",
   "name": "python3"
  }
 },
 "nbformat": 4,
 "nbformat_minor": 2
}
